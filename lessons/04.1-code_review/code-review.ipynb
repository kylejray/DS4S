{
 "cells": [
  {
   "cell_type": "markdown",
   "metadata": {
    "slideshow": {
     "slide_type": "slide"
    }
   },
   "source": [
    "# Code Review and Best Practices"
   ]
  },
  {
   "cell_type": "markdown",
   "metadata": {
    "slideshow": {
     "slide_type": "slide"
    }
   },
   "source": [
    "# What is code review?\n",
    "* Talking about or looking at code line by line\n",
    "* Providing feedback"
   ]
  },
  {
   "cell_type": "markdown",
   "metadata": {
    "slideshow": {
     "slide_type": "slide"
    }
   },
   "source": [
    "# Why do code review?\n",
    "* Catch bugs\n",
    "* Improve code\n",
    "* Get help thinking through design\n",
    "* See different coding styles/approaches\n",
    "* Learn about best practices\n",
    "* Learn about new packages and methods\n",
    "* Know who to talk to (Learn who can help you and who you can help)"
   ]
  },
  {
   "cell_type": "markdown",
   "metadata": {
    "slideshow": {
     "slide_type": "slide"
    }
   },
   "source": [
    "# What to think about\n",
    "* Does the code perform as expected?\n",
    "* Are coding guidelines followed (e.g. PEP-8)?\n",
    "* Is the code easy to read and understand (variable names, function names, order)?\n",
    "* Is the code properly documented (e.g. doc strings, references to origin of algorithms)?\n",
    "* Is the code written efficiently/flexibly (e.g. hard-coded values, uses of functions/classes)?\n",
    "* Is the code tested?\n",
    "* Is there a license? (https://choosealicense.com)"
   ]
  },
  {
   "cell_type": "markdown",
   "metadata": {
    "slideshow": {
     "slide_type": "slide"
    }
   },
   "source": [
    "# Effective code review\n",
    "* Choose a small piece of code (< 200 lines)\n",
    "* Don't get hung up on stylistic choices\n",
    "* Avoid stating opinion as fact\n",
    "* Don't shame raw code (or coding language)\n",
    "* Be careful of assumed knowledge (e.g. jargon or tools)\n",
    "* Works best when everyone is familiar with the problem (e.g. within research groups)"
   ]
  },
  {
   "cell_type": "markdown",
   "metadata": {
    "slideshow": {
     "slide_type": "slide"
    }
   },
   "source": [
    "# Let's get started\n",
    "* We're going to put you into different breakout rooms with a partner\n",
    "* Share links to your assignment repos (and add collaborator if needed)\n",
    "* Take 10 minutes to read through the other person's code and note comments\n",
    "* Share your comments with your partner"
   ]
  }
 ],
 "metadata": {
  "celltoolbar": "Slideshow",
  "kernelspec": {
   "display_name": "Python 3",
   "language": "python",
   "name": "python3"
  },
  "language_info": {
   "codemirror_mode": {
    "name": "ipython",
    "version": 3
   },
   "file_extension": ".py",
   "mimetype": "text/x-python",
   "name": "python",
   "nbconvert_exporter": "python",
   "pygments_lexer": "ipython3",
   "version": "3.7.3"
  }
 },
 "nbformat": 4,
 "nbformat_minor": 2
}
